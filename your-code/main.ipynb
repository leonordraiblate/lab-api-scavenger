{
 "cells": [
  {
   "cell_type": "code",
   "execution_count": 8,
   "id": "51a42af1",
   "metadata": {},
   "outputs": [],
   "source": [
    "import requests\n",
    "from bs4 import BeautifulSoup"
   ]
  },
  {
   "cell_type": "markdown",
   "id": "06835130",
   "metadata": {},
   "source": [
    "# Challenge 1: Fork Languages"
   ]
  },
  {
   "cell_type": "markdown",
   "id": "ff8bfb4b",
   "metadata": {},
   "source": [
    "Obtain the full list of forks created from the main lab repo via Github API.\n",
    "\n",
    "Loop the JSON response to find out the language attribute of each fork. Use an array to store the language attributes of each fork.\n",
    "\n",
    "Hint: Each language should appear only once in your array.\n",
    "Print the language array. It should be something like:"
   ]
  },
  {
   "cell_type": "code",
   "execution_count": 27,
   "id": "03b411cd",
   "metadata": {},
   "outputs": [
    {
     "data": {
      "text/plain": [
       "[None, 'Jupyter Notebook', 'HTML']"
      ]
     },
     "execution_count": 27,
     "metadata": {},
     "output_type": "execute_result"
    }
   ],
   "source": [
    "response = requests.get(\"https://api.github.com/repos/ironhack-datalabs/madrid-oct-2018/forks\")\n",
    "fork_list=response.json()\n",
    "\n",
    "languages=[]\n",
    "for fork in fork_list:\n",
    "    if fork[\"language\"] not in languages:\n",
    "        languages.append(fork[\"language\"])\n",
    "languages\n",
    "        "
   ]
  },
  {
   "cell_type": "code",
   "execution_count": 30,
   "id": "80f3cd88",
   "metadata": {},
   "outputs": [
    {
     "data": {
      "text/plain": [
       "{'Jupyter Notebook': 1134241, 'HTML': 498316, 'Python': 8691}"
      ]
     },
     "execution_count": 30,
     "metadata": {},
     "output_type": "execute_result"
    }
   ],
   "source": [
    "#Not sure\n",
    "response = requests.get(\"https://api.github.com/repos/asier3/mad-oct-2018/languages\")\n",
    "fork_list=response.json()\n",
    "fork_list"
   ]
  },
  {
   "cell_type": "markdown",
   "id": "eff9e302",
   "metadata": {},
   "source": [
    "# Challenge 2: Count Commits"
   ]
  },
  {
   "cell_type": "markdown",
   "id": "1c9c55fe",
   "metadata": {},
   "source": [
    "From your own lab-list-comprehensions repo, you will count how many commits were made in the past 2 weeks:\n",
    "\n",
    "Obtain all the commits made in the past 2 weeks via API, which is a JSON array that contains multiple commit objects.\n",
    "\n",
    "Count how many commit objects are contained in the array."
   ]
  },
  {
   "cell_type": "code",
   "execution_count": 38,
   "id": "32a2c644",
   "metadata": {},
   "outputs": [
    {
     "data": {
      "text/plain": [
       "1"
      ]
     },
     "execution_count": 38,
     "metadata": {},
     "output_type": "execute_result"
    }
   ],
   "source": [
    "response = requests.get(\"https://api.github.com/repos/leonordraiblate/lab-list-comprehensions/commits?since=<2022-01-24>\"\n",
    "                       )\n",
    "commit_lists=response.json()\n",
    "len(commit_lists)"
   ]
  },
  {
   "cell_type": "code",
   "execution_count": 39,
   "id": "c0f95a90",
   "metadata": {},
   "outputs": [
    {
     "data": {
      "text/plain": [
       "2"
      ]
     },
     "execution_count": 39,
     "metadata": {},
     "output_type": "execute_result"
    }
   ],
   "source": [
    "#Testing other repo\n",
    "response = requests.get(\"https://api.github.com/repos/leonordraiblate/lab-web-scraping/commits?since=<2022-01-24>\"\n",
    "                       )\n",
    "commit_lists=response.json()\n",
    "len(commit_lists)"
   ]
  }
 ],
 "metadata": {
  "kernelspec": {
   "display_name": "Python 3 (ipykernel)",
   "language": "python",
   "name": "python3"
  },
  "language_info": {
   "codemirror_mode": {
    "name": "ipython",
    "version": 3
   },
   "file_extension": ".py",
   "mimetype": "text/x-python",
   "name": "python",
   "nbconvert_exporter": "python",
   "pygments_lexer": "ipython3",
   "version": "3.9.13"
  }
 },
 "nbformat": 4,
 "nbformat_minor": 5
}
